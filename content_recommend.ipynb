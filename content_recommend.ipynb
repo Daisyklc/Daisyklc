{
 "cells": [
  {
   "cell_type": "markdown",
   "id": "631cfd9e",
   "metadata": {},
   "source": [
    "## 基于内容的推荐"
   ]
  },
  {
   "cell_type": "markdown",
   "id": "5a6e348d",
   "metadata": {},
   "source": [
    "首先对内容栏进行拼接"
   ]
  },
  {
   "cell_type": "code",
   "execution_count": 1,
   "id": "0cd627e7",
   "metadata": {},
   "outputs": [
    {
     "name": "stdout",
     "output_type": "stream",
     "text": [
      "done\n"
     ]
    }
   ],
   "source": [
    "import pandas as pd\n",
    "\n",
    "# 读取内容推荐数据集\n",
    "df = pd.read_csv(\"content_based_data.csv\")\n",
    "\n",
    "# 创建一个新的列 \"combined_features\"，将文本特征拼接成一个字符串\n",
    "df['combined_features'] = df['genre'].astype(str) + ' ' + \\\n",
    "                          df['platform'].astype(str) + ' ' + \\\n",
    "                          df['publisher'].astype(str) + ' ' + \\\n",
    "                          df['rating'].astype(str)\n",
    "\n",
    "df['combined_features'] = df['combined_features'].str.lower()\n",
    "print('done')"
   ]
  },
  {
   "cell_type": "markdown",
   "id": "1db6563c",
   "metadata": {},
   "source": [
    "对特征进行向量化"
   ]
  },
  {
   "cell_type": "code",
   "execution_count": 2,
   "id": "1deab804",
   "metadata": {},
   "outputs": [
    {
     "name": "stdout",
     "output_type": "stream",
     "text": [
      "done\n"
     ]
    }
   ],
   "source": [
    "from sklearn.feature_extraction.text import TfidfVectorizer\n",
    "\n",
    "# 创建 TF-IDF 向量\n",
    "vectorizer = TfidfVectorizer(stop_words='english')\n",
    "tfidf_matrix = vectorizer.fit_transform(df['combined_features'])\n",
    "print('done')"
   ]
  },
  {
   "cell_type": "markdown",
   "id": "06011a45",
   "metadata": {},
   "source": [
    "计算余弦相似度矩阵"
   ]
  },
  {
   "cell_type": "code",
   "execution_count": 5,
   "id": "0a0c863a",
   "metadata": {},
   "outputs": [
    {
     "name": "stdout",
     "output_type": "stream",
     "text": [
      "done\n"
     ]
    }
   ],
   "source": [
    "from sklearn.metrics.pairwise import linear_kernel\n",
    "\n",
    "# 使用线性核（实际上是余弦相似度）\n",
    "cosine_sim = linear_kernel(tfidf_matrix, tfidf_matrix)\n",
    "print('done')"
   ]
  },
  {
   "cell_type": "markdown",
   "id": "7c6a452b",
   "metadata": {},
   "source": [
    "创建推荐函数并进行尝试："
   ]
  },
  {
   "cell_type": "code",
   "execution_count": 8,
   "id": "9d3247c0",
   "metadata": {},
   "outputs": [
    {
     "name": "stdout",
     "output_type": "stream",
     "text": [
      "游戏名称未找到，请检查拼写\n",
      "推荐游戏：\n"
     ]
    }
   ],
   "source": [
    "# 创建游戏名到索引的映射字典\n",
    "indices = pd.Series(df.index, index=df['name']).drop_duplicates()\n",
    "\n",
    "def recommend_games(title, num_recommendations=5):\n",
    "    title = title.lower()\n",
    "    \n",
    "    if title not in df['name'].str.lower().values:\n",
    "        print(\"游戏名称未找到，请检查拼写\")\n",
    "        return []\n",
    "\n",
    "    # 通过匹配小写名称获取索引\n",
    "    idx = df[df['name'].str.lower() == title].index[0]\n",
    "\n",
    "    # 获取与该游戏的相似度分数\n",
    "    sim_scores = list(enumerate(cosine_sim[idx]))\n",
    "\n",
    "    # 根据相似度降序排序，排除自己本身\n",
    "    sim_scores = sorted(sim_scores, key=lambda x: x[1], reverse=True)[1:num_recommendations+1]\n",
    "\n",
    "    # 获取推荐结果索引\n",
    "    game_indices = [i[0] for i in sim_scores]\n",
    "\n",
    "    # 返回推荐游戏名称\n",
    "    return df['name'].iloc[game_indices].tolist()\n",
    "\n",
    "#test\n",
    "recommendations = recommend_games(\"Sports\", num_recommendations=5)\n",
    "print(\"推荐游戏：\")\n",
    "for i, game in enumerate(recommendations, 1):\n",
    "    print(f\"{i}. {game}\")\n",
    "\n"
   ]
  },
  {
   "cell_type": "markdown",
   "id": "f9a17b1b",
   "metadata": {},
   "source": []
  }
 ],
 "metadata": {
  "kernelspec": {
   "display_name": "Python 3 (ipykernel)",
   "language": "python",
   "name": "python3"
  },
  "language_info": {
   "codemirror_mode": {
    "name": "ipython",
    "version": 3
   },
   "file_extension": ".py",
   "mimetype": "text/x-python",
   "name": "python",
   "nbconvert_exporter": "python",
   "pygments_lexer": "ipython3",
   "version": "3.11.5"
  }
 },
 "nbformat": 4,
 "nbformat_minor": 5
}
