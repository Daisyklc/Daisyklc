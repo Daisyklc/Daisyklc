{
 "cells": [
  {
   "cell_type": "markdown",
   "id": "bf753541",
   "metadata": {},
   "source": [
    "## 协同过滤推荐\n",
    "使用了三种协同过滤推荐的算法并将三者混合"
   ]
  },
  {
   "cell_type": "markdown",
   "id": "bc8c4e10",
   "metadata": {},
   "source": [
    "第一种：简单协同过滤"
   ]
  },
  {
   "cell_type": "code",
   "execution_count": 2,
   "id": "0e8c2748",
   "metadata": {},
   "outputs": [
    {
     "name": "stdout",
     "output_type": "stream",
     "text": [
      "done\n"
     ]
    }
   ],
   "source": [
    "import pandas as pd\n",
    "from sklearn.metrics.pairwise import cosine_similarity\n",
    "\n",
    "df = pd.read_csv(\"collaborative_data.csv\")\n",
    "\n",
    "# 构造 pivot，模拟为只有一个用户对所有游戏评分\n",
    "pivot = df.pivot_table(index='name', values='user_score')\n",
    "\n",
    "# 计算 item-item 相似度\n",
    "similarity_matrix = cosine_similarity(pivot.fillna(0))\n",
    "similarity_df = pd.DataFrame(similarity_matrix, index=pivot.index, columns=pivot.index)\n",
    "\n",
    "def recommend_simple_cf(game_name, top_n=5):\n",
    "    if game_name not in similarity_df.index:\n",
    "        return []\n",
    "    sim_scores = similarity_df[game_name].sort_values(ascending=False)[1:top_n+1]\n",
    "    return sim_scores.index.tolist()\n",
    "print('done')"
   ]
  },
  {
   "cell_type": "markdown",
   "id": "d145d21d",
   "metadata": {},
   "source": [
    "第二种：SVD协同过滤"
   ]
  },
  {
   "cell_type": "code",
   "execution_count": 5,
   "id": "9593471f",
   "metadata": {},
   "outputs": [
    {
     "name": "stdout",
     "output_type": "stream",
     "text": [
      "Defaulting to user installation because normal site-packages is not writeable\n",
      "Requirement already satisfied: scikit-surprise in c:\\users\\33572\\appdata\\roaming\\python\\python311\\site-packages (1.1.4)\n",
      "Requirement already satisfied: joblib>=1.2.0 in c:\\programdata\\anaconda3\\lib\\site-packages (from scikit-surprise) (1.2.0)\n",
      "Requirement already satisfied: numpy>=1.19.5 in c:\\programdata\\anaconda3\\lib\\site-packages (from scikit-surprise) (1.24.3)\n",
      "Requirement already satisfied: scipy>=1.6.0 in c:\\programdata\\anaconda3\\lib\\site-packages (from scikit-surprise) (1.11.1)\n"
     ]
    }
   ],
   "source": [
    "!pip install scikit-surprise"
   ]
  },
  {
   "cell_type": "code",
   "execution_count": 7,
   "id": "972f0729",
   "metadata": {},
   "outputs": [
    {
     "name": "stdout",
     "output_type": "stream",
     "text": [
      "done\n"
     ]
    }
   ],
   "source": [
    "from surprise import Dataset, Reader, SVD\n",
    "from surprise.model_selection import train_test_split\n",
    "\n",
    "# 构造模拟用户数据\n",
    "df_svd = df.copy()\n",
    "df_svd['user_id'] = df_svd.index % 1000  # 构造 1000 个模拟用户\n",
    "\n",
    "reader = Reader(rating_scale=(0, 10))\n",
    "data = Dataset.load_from_df(df_svd[['user_id', 'name', 'user_score']], reader)\n",
    "trainset, testset = train_test_split(data, test_size=0.2)\n",
    "\n",
    "model_svd = SVD()\n",
    "model_svd.fit(trainset)\n",
    "\n",
    "def recommend_svd(user_id, top_n=5):\n",
    "    all_items = df['name'].unique()\n",
    "    predictions = [model_svd.predict(user_id, iid) for iid in all_items]\n",
    "    predictions.sort(key=lambda x: x.est, reverse=True)\n",
    "    return [pred.iid for pred in predictions[:top_n]]\n",
    "print('done')"
   ]
  },
  {
   "cell_type": "markdown",
   "id": "b019cdef",
   "metadata": {},
   "source": [
    "基于KNN的协同过滤"
   ]
  },
  {
   "cell_type": "code",
   "execution_count": 9,
   "id": "e008b740",
   "metadata": {},
   "outputs": [
    {
     "name": "stdout",
     "output_type": "stream",
     "text": [
      "Computing the cosine similarity matrix...\n",
      "Done computing similarity matrix.\n",
      "done\n"
     ]
    }
   ],
   "source": [
    "from surprise import KNNWithMeans\n",
    "\n",
    "#  清洗评分为0或缺失的行，避免除零错误\n",
    "df_knn = df.dropna(subset=['user_score'])  # 避免 NaN\n",
    "df_knn = df_knn[df_knn['user_score'] > 0]  # 避免评分为0\n",
    "\n",
    "# 模拟用户ID（如之前那样 % 1000）\n",
    "df_knn['user_id'] = df_knn.index % 1000\n",
    "\n",
    "from surprise import Dataset, Reader\n",
    "\n",
    "reader = Reader(rating_scale=(0, 10))\n",
    "data = Dataset.load_from_df(df_knn[['user_id', 'name', 'user_score']], reader)\n",
    "trainset = data.build_full_trainset()  # 使用全量数据而非 train_test_split\n",
    "\n",
    "# 构建 KNN 协同过滤模型\n",
    "sim_options = {\n",
    "    'name': 'cosine',\n",
    "    'user_based': False  # False = item-based\n",
    "}\n",
    "\n",
    "model_knn = KNNWithMeans(sim_options=sim_options, verbose=True)\n",
    "model_knn.fit(trainset)\n",
    "\n",
    "# 推荐函数：给定模拟用户推荐游戏\n",
    "def recommend_knn(user_id, top_n=5):\n",
    "    all_items = df_knn['name'].unique()\n",
    "    predictions = [model_knn.predict(user_id, iid) for iid in all_items]\n",
    "    predictions.sort(key=lambda x: x.est, reverse=True)\n",
    "    return [pred.iid for pred in predictions[:top_n]]\n",
    "\n",
    "print('done')"
   ]
  },
  {
   "cell_type": "markdown",
   "id": "c37c7b69",
   "metadata": {},
   "source": [
    "混合以上三种"
   ]
  },
  {
   "cell_type": "code",
   "execution_count": 10,
   "id": "5b7f0830",
   "metadata": {},
   "outputs": [
    {
     "name": "stdout",
     "output_type": "stream",
     "text": [
      "done\n"
     ]
    }
   ],
   "source": [
    "def hybrid_recommend(game_name, user_id=None, alpha=0.5, top_n=5):\n",
    "    # 内容推荐得分\n",
    "    content_scores = similarity_df[game_name].copy()\n",
    "    \n",
    "    # 协同推荐得分（模拟的 SVD 得分）\n",
    "    all_items = df['name'].unique()\n",
    "    collab_scores = {iid: model_svd.predict(user_id, iid).est for iid in all_items}\n",
    "    \n",
    "    # 加权混合\n",
    "    hybrid_scores = {}\n",
    "    for item in all_items:\n",
    "        content_score = content_scores.get(item, 0)\n",
    "        collab_score = collab_scores.get(item, 0)\n",
    "        hybrid_scores[item] = alpha * content_score + (1 - alpha) * collab_score\n",
    "\n",
    "    # 排序推荐\n",
    "    ranked = sorted(hybrid_scores.items(), key=lambda x: x[1], reverse=True)\n",
    "    return [item[0] for item in ranked[:top_n]]\n",
    "print('done')"
   ]
  },
  {
   "cell_type": "markdown",
   "id": "2e9afd51",
   "metadata": {},
   "source": [
    "示例演示："
   ]
  },
  {
   "cell_type": "code",
   "execution_count": 11,
   "id": "96193950",
   "metadata": {},
   "outputs": [
    {
     "name": "stdout",
     "output_type": "stream",
     "text": [
      "简单协同过滤推荐： ['Rayman DS', 'Red Bull BC One', 'Record of Agarest War Zero', 'Record of Agarest War 2', 'Record of Agarest War']\n",
      "SVD 推荐（用户 10）： ['The Witcher 3: Wild Hunt', 'Need for Speed: Most Wanted', 'Mega Man Anniversary Collection', 'LEGO Batman: The Videogame', 'Harry Potter and the Chamber of Secrets']\n",
      "KNN 推荐（用户 10）： ['Breath of Fire III', 'Harvest Moon: Friends of Mineral Town', 'Boktai: The Sun is in Your Hand', 'Golden Sun: The Lost Age', 'MLB SlugFest Loaded']\n",
      "混合推荐（用户 10）： ['The Witcher 3: Wild Hunt', 'Need for Speed: Most Wanted', 'Mega Man Anniversary Collection', 'LEGO Batman: The Videogame', 'Harry Potter and the Chamber of Secrets']\n"
     ]
    }
   ],
   "source": [
    "print(\"简单协同过滤推荐：\", recommend_simple_cf(\"Wii Sports\"))\n",
    "print(\"SVD 推荐（用户 10）：\", recommend_svd(10))\n",
    "print(\"KNN 推荐（用户 10）：\", recommend_knn(10))\n",
    "print(\"混合推荐（用户 10）：\", hybrid_recommend(\"Wii Sports\", user_id=10))"
   ]
  },
  {
   "cell_type": "code",
   "execution_count": null,
   "id": "2d2dff28",
   "metadata": {},
   "outputs": [],
   "source": []
  }
 ],
 "metadata": {
  "kernelspec": {
   "display_name": "Python 3 (ipykernel)",
   "language": "python",
   "name": "python3"
  },
  "language_info": {
   "codemirror_mode": {
    "name": "ipython",
    "version": 3
   },
   "file_extension": ".py",
   "mimetype": "text/x-python",
   "name": "python",
   "nbconvert_exporter": "python",
   "pygments_lexer": "ipython3",
   "version": "3.11.5"
  }
 },
 "nbformat": 4,
 "nbformat_minor": 5
}
