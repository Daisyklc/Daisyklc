{
 "cells": [
  {
   "cell_type": "markdown",
   "id": "f1d5950b",
   "metadata": {},
   "source": [
    "## 数据预处理：\n",
    "数据集链接：\n",
    "这个笔记内容主要是导入模块并清洗数据"
   ]
  },
  {
   "cell_type": "code",
   "execution_count": 2,
   "id": "9db2e511",
   "metadata": {},
   "outputs": [
    {
     "name": "stdout",
     "output_type": "stream",
     "text": [
      "(16719, 16)\n",
      "Index(['Name', 'Platform', 'Year_of_Release', 'Genre', 'Publisher', 'NA_Sales',\n",
      "       'EU_Sales', 'JP_Sales', 'Other_Sales', 'Global_Sales', 'Critic_Score',\n",
      "       'Critic_Count', 'User_Score', 'User_Count', 'Developer', 'Rating'],\n",
      "      dtype='object')\n",
      "                       Name Platform  Year_of_Release         Genre Publisher  \\\n",
      "0                Wii Sports      Wii           2006.0        Sports  Nintendo   \n",
      "1         Super Mario Bros.      NES           1985.0      Platform  Nintendo   \n",
      "2            Mario Kart Wii      Wii           2008.0        Racing  Nintendo   \n",
      "3         Wii Sports Resort      Wii           2009.0        Sports  Nintendo   \n",
      "4  Pokemon Red/Pokemon Blue       GB           1996.0  Role-Playing  Nintendo   \n",
      "\n",
      "   NA_Sales  EU_Sales  JP_Sales  Other_Sales  Global_Sales  Critic_Score  \\\n",
      "0     41.36     28.96      3.77         8.45         82.53          76.0   \n",
      "1     29.08      3.58      6.81         0.77         40.24           NaN   \n",
      "2     15.68     12.76      3.79         3.29         35.52          82.0   \n",
      "3     15.61     10.93      3.28         2.95         32.77          80.0   \n",
      "4     11.27      8.89     10.22         1.00         31.37           NaN   \n",
      "\n",
      "   Critic_Count User_Score  User_Count Developer Rating  \n",
      "0          51.0          8       322.0  Nintendo      E  \n",
      "1           NaN        NaN         NaN       NaN    NaN  \n",
      "2          73.0        8.3       709.0  Nintendo      E  \n",
      "3          73.0          8       192.0  Nintendo      E  \n",
      "4           NaN        NaN         NaN       NaN    NaN  \n",
      "<class 'pandas.core.frame.DataFrame'>\n",
      "RangeIndex: 16719 entries, 0 to 16718\n",
      "Data columns (total 16 columns):\n",
      " #   Column           Non-Null Count  Dtype  \n",
      "---  ------           --------------  -----  \n",
      " 0   Name             16717 non-null  object \n",
      " 1   Platform         16719 non-null  object \n",
      " 2   Year_of_Release  16450 non-null  float64\n",
      " 3   Genre            16717 non-null  object \n",
      " 4   Publisher        16665 non-null  object \n",
      " 5   NA_Sales         16719 non-null  float64\n",
      " 6   EU_Sales         16719 non-null  float64\n",
      " 7   JP_Sales         16719 non-null  float64\n",
      " 8   Other_Sales      16719 non-null  float64\n",
      " 9   Global_Sales     16719 non-null  float64\n",
      " 10  Critic_Score     8137 non-null   float64\n",
      " 11  Critic_Count     8137 non-null   float64\n",
      " 12  User_Score       10015 non-null  object \n",
      " 13  User_Count       7590 non-null   float64\n",
      " 14  Developer        10096 non-null  object \n",
      " 15  Rating           9950 non-null   object \n",
      "dtypes: float64(9), object(7)\n",
      "memory usage: 2.0+ MB\n",
      "None\n"
     ]
    }
   ],
   "source": [
    "import pandas as pd\n",
    "\n",
    "df = pd.read_csv(r'C:\\Users\\33572\\Desktop\\archivenosteam\\Video_Games_Sales_as_at_22_Dec_2016.csv')  \n",
    "print(df.shape)         # 查看行列数\n",
    "print(df.columns)       # 查看列名\n",
    "print(df.head(5))       # 查看前几行\n",
    "print(df.info())        # 查看数据类型和缺失值情况"
   ]
  },
  {
   "cell_type": "markdown",
   "id": "ae253f65",
   "metadata": {},
   "source": [
    "先按照不同推荐系统的需求对总表进行分割，分割后对于含缺失值的行直接进行删除并输出每张表"
   ]
  },
  {
   "cell_type": "code",
   "execution_count": 7,
   "id": "5b1fd8e6",
   "metadata": {},
   "outputs": [
    {
     "name": "stdout",
     "output_type": "stream",
     "text": [
      "done\n"
     ]
    }
   ],
   "source": [
    "# 将所有列名转为小写并去除两侧空格\n",
    "df.columns = [col.strip().lower() for col in df.columns]\n",
    "\n",
    "# 替换 user_score 中的 \"tbd\" 为 NaN\n",
    "df['user_score'] = df['user_score'].replace('tbd', None)\n",
    "\n",
    "# 转换字段类型\n",
    "df['user_score'] = pd.to_numeric(df['user_score'], errors='coerce')\n",
    "df['year_of_release'] = pd.to_numeric(df['year_of_release'], errors='coerce')\n",
    "df['critic_score'] = pd.to_numeric(df['critic_score'], errors='coerce')\n",
    "df['critic_count'] = pd.to_numeric(df['critic_count'], errors='coerce')\n",
    "df['user_count'] = pd.to_numeric(df['user_count'], errors='coerce')\n",
    "df['global_sales'] = pd.to_numeric(df['global_sales'], errors='coerce')\n",
    "print('done')"
   ]
  },
  {
   "cell_type": "code",
   "execution_count": 8,
   "id": "dccce467",
   "metadata": {},
   "outputs": [
    {
     "name": "stdout",
     "output_type": "stream",
     "text": [
      "数据清洗完成，已导出为 content_based_data.csv、collaborative_data.csv 和 hybrid_data.csv\n"
     ]
    }
   ],
   "source": [
    "\n",
    "# -----------------------------\n",
    "# 数据集1：用于基于内容的推荐\n",
    "# -----------------------------\n",
    "# 选择 Name、Genre、Platform、Year_of_Release、Publisher、Developer、Rating（文本特征）\n",
    "content_df = df[['name', 'genre', 'platform', 'year_of_release', 'publisher', 'rating']].drop_duplicates()\n",
    "# 删除任何存在缺失值的行\n",
    "content_df = content_df.dropna()\n",
    "\n",
    "# -----------------------------\n",
    "# 数据集2：用于协同过滤推荐\n",
    "# -----------------------------\n",
    "# 假设使用 User_Score 构建用户-游戏评分矩阵\n",
    "collab_df = df[['name', 'user_score', 'user_count']].drop_duplicates()\n",
    "# 删除任何存在缺失值的行\n",
    "collab_df = collab_df.dropna()\n",
    "\n",
    "# -----------------------------\n",
    "# 数据集3：用于混合推荐系统\n",
    "# -----------------------------\n",
    "# 混合推荐通常结合评分+内容，所以保留关键评分与内容信息\n",
    "hybrid_df = df[['name', 'genre', 'platform', 'user_score', 'critic_score', 'global_sales']].drop_duplicates()\n",
    "hybrid_df = hybrid_df.dropna()\n",
    "\n",
    "# -----------------------------\n",
    "# 保存为文件\n",
    "# -----------------------------\n",
    "content_df.to_csv(\"content_based_data.csv\", index=False)\n",
    "collab_df.to_csv(\"collaborative_data.csv\", index=False)\n",
    "hybrid_df.to_csv(\"hybrid_data.csv\", index=False)\n",
    "\n",
    "print(\"数据清洗完成，已导出为 content_based_data.csv、collaborative_data.csv 和 hybrid_data.csv\")\n"
   ]
  },
  {
   "cell_type": "code",
   "execution_count": null,
   "id": "3ff1fccf",
   "metadata": {},
   "outputs": [],
   "source": []
  }
 ],
 "metadata": {
  "kernelspec": {
   "display_name": "Python 3 (ipykernel)",
   "language": "python",
   "name": "python3"
  },
  "language_info": {
   "codemirror_mode": {
    "name": "ipython",
    "version": 3
   },
   "file_extension": ".py",
   "mimetype": "text/x-python",
   "name": "python",
   "nbconvert_exporter": "python",
   "pygments_lexer": "ipython3",
   "version": "3.11.5"
  }
 },
 "nbformat": 4,
 "nbformat_minor": 5
}
